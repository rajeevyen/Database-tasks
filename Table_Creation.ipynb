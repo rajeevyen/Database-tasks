{
 "cells": [
  {
   "cell_type": "code",
   "execution_count": 1,
   "id": "8f1a795a",
   "metadata": {},
   "outputs": [],
   "source": [
    "import csv\n",
    "from mysql.connector import MySQLConnection, Error\n",
    "from configparser import ConfigParser\n",
    "from pandas import DataFrame\n",
    "import pandas as pd"
   ]
  },
  {
   "cell_type": "code",
   "execution_count": 2,
   "id": "749ecca4",
   "metadata": {},
   "outputs": [],
   "source": [
    "def read_config(config_file = 'config.ini', section = 'mysql'):\n",
    "    parser = ConfigParser()\n",
    "    parser.read(config_file)\n",
    "    \n",
    "    config = {}\n",
    "    \n",
    "    if parser.has_section(section):\n",
    "        # Parse the configuration file.\n",
    "        items = parser.items(section)\n",
    "        \n",
    "        # Construct the parameter dictionary.\n",
    "        for item in items:\n",
    "            config[item[0]] = item[1]\n",
    "            \n",
    "    else:\n",
    "        raise Exception(f'Section [{section}] missing ' + \\\n",
    "                        f'in config file {filename}')\n",
    "    \n",
    "    return config"
   ]
  },
  {
   "cell_type": "code",
   "execution_count": 3,
   "id": "07418935",
   "metadata": {},
   "outputs": [],
   "source": [
    "db_config = read_config() # Calling read config function"
   ]
  },
  {
   "cell_type": "code",
   "execution_count": 4,
   "id": "e6d43efa",
   "metadata": {},
   "outputs": [],
   "source": [
    "def make_connection(config_file = 'config.ini', section = 'mysql'): #function to create connection\n",
    "    try:\n",
    "        db_config = read_config(config_file, section)            \n",
    "        conn = MySQLConnection(**db_config)\n",
    "        \n",
    "        if conn.is_connected():\n",
    "            return conn\n",
    "                \n",
    "    except Error as e:\n",
    "        print('Connection failed.')\n",
    "        print(e)\n",
    "        \n",
    "        return None"
   ]
  },
  {
   "cell_type": "code",
   "execution_count": 5,
   "id": "9b3d151f",
   "metadata": {},
   "outputs": [
    {
     "data": {
      "text/plain": [
       "<mysql.connector.connection.MySQLConnection at 0x7f78da128700>"
      ]
     },
     "execution_count": 5,
     "metadata": {},
     "output_type": "execute_result"
    }
   ],
   "source": [
    "conn = make_connection() # calling connection function\n",
    "conn"
   ]
  },
  {
   "cell_type": "code",
   "execution_count": 6,
   "id": "56e097e8",
   "metadata": {},
   "outputs": [],
   "source": [
    "cursor = conn.cursor()"
   ]
  },
  {
   "cell_type": "code",
   "execution_count": 7,
   "id": "529a56ea",
   "metadata": {},
   "outputs": [],
   "source": [
    "cursor.execute('DROP TABLE IF EXISTS STUDENT')\n",
    "cursor.execute('DROP TABLE IF EXISTS STUDENTCOURSES')\n",
    "cursor.execute('DROP TABLE IF EXISTS COURSES')\n",
    "cursor.execute('DROP TABLE IF EXISTS TEACHER')\n",
    "cursor.execute('DROP SCHEMA IF EXISTS CLASS')"
   ]
  },
  {
   "cell_type": "code",
   "execution_count": 8,
   "id": "0f998ee1",
   "metadata": {},
   "outputs": [],
   "source": [
    "cursor.execute('CREATE SCHEMA CLASS')"
   ]
  },
  {
   "cell_type": "code",
   "execution_count": 9,
   "id": "3662c3f9",
   "metadata": {},
   "outputs": [],
   "source": [
    "def do_query_return_all(conn, sql): # function to execte the query\n",
    "    cursor = None\n",
    "    \n",
    "    try:\n",
    "        # Do the query.\n",
    "        cursor = conn.cursor()\n",
    "        cursor.execute(sql);\n",
    "\n",
    "        # Return the fetched data as a list of tuples,\n",
    "        # one tuple per table row.\n",
    "        rows = cursor.fetchall()\n",
    "        count = cursor.rowcount\n",
    "\n",
    "        cursor.close()\n",
    "        return [rows, count]\n",
    "\n",
    "    except Error as e:\n",
    "        print('Query failed')\n",
    "        print(e)\n",
    "\n",
    "        cursor.close()\n",
    "        return [(), 0]"
   ]
  },
  {
   "cell_type": "markdown",
   "id": "fc8cd7c0",
   "metadata": {},
   "source": [
    "### Generate SQL CREATE TABLE commands for your tables. Add foreign key constraints. Use the commands in a Python program or notebook. \n",
    "\n",
    "#### There are 4 tables:\n",
    "<ul>\n",
    "    <b><li>Student</li>\n",
    "    <li>StudentCourses</li>\n",
    "    <li>Teacher</li>\n",
    "        <li>Courses</li></b>\n",
    "</ul>"
   ]
  },
  {
   "cell_type": "code",
   "execution_count": 10,
   "id": "ffe718d5",
   "metadata": {
    "scrolled": true
   },
   "outputs": [
    {
     "name": "stdout",
     "output_type": "stream",
     "text": [
      "CREATE TABLE CLASS.Student \n",
      "(\n",
      "StudentID INT NOT NULL, \n",
      "FirstName VARCHAR(40) NOT NULL, \n",
      "LastName VARCHAR(40) NOT NULL, \n",
      "Gender CHAR(10) NOT NULL, \n",
      "PRIMARY KEY (StudentID) \n",
      ")\n"
     ]
    }
   ],
   "source": [
    "sql1 = ( \"CREATE TABLE CLASS.Student \\n\"\n",
    "      + '(\\n'\n",
    "      +   'StudentID INT NOT NULL, \\n'\n",
    "      +    'FirstName VARCHAR(40) NOT NULL, \\n'\n",
    "      +    'LastName VARCHAR(40) NOT NULL, \\n'\n",
    "      +    'Gender CHAR(10) NOT NULL, \\n'\n",
    "      +    'PRIMARY KEY (StudentID) \\n'\n",
    "      + ')'\n",
    "      )\n",
    "print(sql1)\n",
    "rows, count = do_query_return_all(conn, sql1)"
   ]
  },
  {
   "cell_type": "markdown",
   "id": "12c0b6eb",
   "metadata": {},
   "source": [
    " ### using named constraints, create named constraints for Student table"
   ]
  },
  {
   "cell_type": "code",
   "execution_count": 11,
   "id": "2d824bb7",
   "metadata": {},
   "outputs": [
    {
     "name": "stdout",
     "output_type": "stream",
     "text": [
      "CREATE TABLE CLASS.StudentCourses \n",
      "(\n",
      "StudentID VARCHAR(5) NOT NULL,\n",
      "CourseTitle VARCHAR(20) NOT NULL,\n",
      "Grade VARCHAR(20) NOT NULL,\n",
      "CONSTRAINT chk PRIMARY KEY(StudentID, CourseTitle)\n",
      ")\n"
     ]
    }
   ],
   "source": [
    "sql2 = ( \"CREATE TABLE CLASS.StudentCourses \\n\"\n",
    "      + '(\\n'\n",
    "      +  'StudentID VARCHAR(5) NOT NULL,\\n'\n",
    "      + 'CourseTitle VARCHAR(20) NOT NULL,\\n'\n",
    "      + 'Grade VARCHAR(20) NOT NULL,\\n'\n",
    "      + 'CONSTRAINT chk PRIMARY KEY(StudentID, CourseTitle)\\n'  \n",
    "      + ')'\n",
    "       )\n",
    "print(sql2)\n",
    "rows, count = do_query_return_all(conn, sql2)"
   ]
  },
  {
   "cell_type": "code",
   "execution_count": 12,
   "id": "dcfa467b",
   "metadata": {},
   "outputs": [
    {
     "name": "stdout",
     "output_type": "stream",
     "text": [
      "CREATE TABLE CLASS.Teacher \n",
      "(\n",
      "TeacherID VARCHAR(20) NOT NULL,\n",
      "TeacherName VARCHAR(40) NOT NULL,\n",
      "PRIMARY KEY (TeacherID) \n",
      ")\n"
     ]
    }
   ],
   "source": [
    "sql4 = ( \"CREATE TABLE CLASS.Teacher \\n\"\n",
    "      + '(\\n'\n",
    "  + 'TeacherID VARCHAR(20) NOT NULL,\\n'\n",
    "  + 'TeacherName VARCHAR(40) NOT NULL,\\n'\n",
    "  + 'PRIMARY KEY (TeacherID) \\n'\n",
    "      + ')'\n",
    "       )\n",
    "print(sql4)\n",
    "rows, count = do_query_return_all(conn, sql4)"
   ]
  },
  {
   "cell_type": "code",
   "execution_count": 13,
   "id": "21d7b603",
   "metadata": {},
   "outputs": [
    {
     "name": "stdout",
     "output_type": "stream",
     "text": [
      "CREATE TABLE CLASS.Courses \n",
      "(\n",
      "CourseTitle VARCHAR(20) NOT NULL,\n",
      "Fee VARCHAR(10) NOT NULL,\n",
      "Qualification VARCHAR(30) NOT NULL,\n",
      "TeacherID VARCHAR(20) NOT NULL, \n",
      "PRIMARY KEY (CourseTitle) \n",
      ")\n"
     ]
    }
   ],
   "source": [
    "sql3 = ( \"CREATE TABLE CLASS.Courses \\n\"\n",
    "      + '(\\n'\n",
    "      + 'CourseTitle VARCHAR(20) NOT NULL,\\n'\n",
    "      + 'Fee VARCHAR(10) NOT NULL,\\n'\n",
    "      + 'Qualification VARCHAR(30) NOT NULL,\\n'\n",
    "      + 'TeacherID VARCHAR(20) NOT NULL, \\n'\n",
    "      + 'PRIMARY KEY (CourseTitle) \\n'\n",
    "    #  + 'FOREIGN KEY (TeacherID) REFERENCES Teacher(TeacherID)\\n'\n",
    "    #  + 'FOREIGN KEY (CourseTitle) REFERENCES Courses(CourseTitle)\\n'\n",
    "      + ')'\n",
    "       )\n",
    "print(sql3)\n",
    "rows, count = do_query_return_all(conn, sql3)"
   ]
  }
 ],
 "metadata": {
  "kernelspec": {
   "display_name": "Python 3 (ipykernel)",
   "language": "python",
   "name": "python3"
  },
  "language_info": {
   "codemirror_mode": {
    "name": "ipython",
    "version": 3
   },
   "file_extension": ".py",
   "mimetype": "text/x-python",
   "name": "python",
   "nbconvert_exporter": "python",
   "pygments_lexer": "ipython3",
   "version": "3.9.12"
  }
 },
 "nbformat": 4,
 "nbformat_minor": 5
}
